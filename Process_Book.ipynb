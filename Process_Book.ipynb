{
 "metadata": {
  "name": "",
  "signature": "sha256:2dd416fc3437fd8c4c365b32ef2ee444464aed78508fd767918202f62ac9822f"
 },
 "nbformat": 3,
 "nbformat_minor": 0,
 "worksheets": [
  {
   "cells": [
    {
     "cell_type": "markdown",
     "metadata": {},
     "source": [
      "**Parts TO DO:**\n",
      "\n",
      "**Overview and Motivation:** Provide an overview of the project goals and the motivation for it. Consider that this will be read by people who did not see your project proposal.\n",
      "\n",
      "**Related Work:** Anything that inspired you, such as a paper, a web site, or something we discussed in class.\n",
      "\n",
      "**Initial Questions:** What questions are you trying to answer? How did these questions evolve over the course of the project? What new questions did you consider in the course of your analysis?\n",
      "\n",
      "**Data:** Source, scraping method, cleanup, etc.\n",
      "\n",
      "**Exploratory Analysis:** What visualizations did you use to look at your data in different ways? What are the different statistical methods you considered? Justify the decisions you made, and show any major changes to your ideas. How did you reach these conclusions?\n",
      "\n",
      "**Final Analysis:** What did you learn about the data? How did you answer the questions? How can you justify your answers?"
     ]
    },
    {
     "cell_type": "heading",
     "level": 1,
     "metadata": {},
     "source": [
      "wEbola: Mapping the Ebola Epidemic"
     ]
    },
    {
     "cell_type": "heading",
     "level": 2,
     "metadata": {},
     "source": [
      "Overview and Motivation"
     ]
    },
    {
     "cell_type": "markdown",
     "metadata": {},
     "source": [
      "Inspired by the recent influx of news coverage of Ebola in the United States, we decided to investigate and conduct further research about Ebola in West Africa. Prior to this class, we all had interests in global health issues, and we thought this would be an incredible topic to explore that not only corresponds with our passions, but also would be relevant long after our project\u2019s conclusion. We noticed that the current fight against Ebola has been largely ineffective and disorganized, so we thought this may be due to a lack of understanding on how to best distribute the resources. We are hoping to parse through the data in a clear and methodical way that will help us figure out key factors that can prevent the spread of Ebola in the future. \n",
      "\n",
      "Ultimately we want to be able to predict the spread of Ebola, and determine which factors are most relevant in understanding this epidemic and its spread. Through this project, we hope to provide a comprehensive and rigorous analysis of the data available on Ebola and use it to better inform health workers, governments, and NGOs, and provide actionable recommendations for future Ebola interventions based off of the analysis we conducted. The benefits from this project will be multifold. First, we will have a greater understanding of the epidemic and the factors which are most important in determining spread and also intervention. Next, we will also provide a service to the Ebola community, and take part in the fight against Ebola, serving as another resource to better and more efficiently allocate time and money towards this epidemic. \n"
     ]
    },
    {
     "cell_type": "heading",
     "level": 2,
     "metadata": {},
     "source": [
      "Related Work"
     ]
    },
    {
     "cell_type": "markdown",
     "metadata": {},
     "source": [
      "We were inspired largely by the HackEbola Hackathon (http://hackebolawithdata.challengepost.com/), from which we received our data. Our project originally started as a hackathon project that we decided to complete through the context of this final project. We also drew analytical insights from work that we did in class, such as from Problem Set 4, where we classified characteristics using machine learning techniques. "
     ]
    },
    {
     "cell_type": "heading",
     "level": 2,
     "metadata": {},
     "source": [
      "Initial Questions"
     ]
    },
    {
     "cell_type": "code",
     "collapsed": false,
     "input": [],
     "language": "python",
     "metadata": {},
     "outputs": [],
     "prompt_number": 0
    },
    {
     "cell_type": "heading",
     "level": 2,
     "metadata": {},
     "source": [
      "Data"
     ]
    },
    {
     "cell_type": "markdown",
     "metadata": {},
     "source": [
      "Movement restriction data was extracted from the HackEbola datasets. To prepare the dataset as time-series regressors, date ranges for movement restrictions were binarily interpolated (e.g. An Airport Closure from September 19th to October 19th would be interpolated into 30 days of Airport Closures with a value of 1 if restricted and 0 otherwise). Potential closures were excluded. Finally, datasets were grouped by country and region.\n"
     ]
    },
    {
     "cell_type": "heading",
     "level": 2,
     "metadata": {},
     "source": [
      "Exploratory Anaylsis"
     ]
    },
    {
     "cell_type": "code",
     "collapsed": false,
     "input": [],
     "language": "python",
     "metadata": {},
     "outputs": [],
     "prompt_number": 2
    },
    {
     "cell_type": "heading",
     "level": 2,
     "metadata": {},
     "source": [
      "Final Analysis"
     ]
    },
    {
     "cell_type": "code",
     "collapsed": false,
     "input": [],
     "language": "python",
     "metadata": {},
     "outputs": []
    }
   ],
   "metadata": {}
  }
 ]
}