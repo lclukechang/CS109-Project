{
 "metadata": {
  "name": "",
  "signature": "sha256:2eb4420b2628cba376ba3304ac8456fd48aa62a2dae574e74062f79c67172477"
 },
 "nbformat": 3,
 "nbformat_minor": 0,
 "worksheets": [
  {
   "cells": [
    {
     "cell_type": "heading",
     "level": 1,
     "metadata": {},
     "source": [
      "wEbola: Mapping the Ebola Epidemic"
     ]
    },
    {
     "cell_type": "markdown",
     "metadata": {},
     "source": [
      "A CS109 Final Project by Julie Chang, Luke Chang, Kevin Hu, and Jiho Kang\n",
      "\n",
      "Data can be accessed by going to this url: http://www.qdatum.io/public-sources (please note that at time of submission, the website is down. We have contacted the admins, but no word as of yet.) Specific links containing the two datasets are http://api.qdatum.io/v1/pull/6?format=tsv and http://api.qdatum.io/v1/pull/2?format=tsv. We also used other datasets as described below that we ultimately excluded from our model."
     ]
    },
    {
     "cell_type": "heading",
     "level": 2,
     "metadata": {},
     "source": [
      "Overview and Motivation"
     ]
    },
    {
     "cell_type": "markdown",
     "metadata": {},
     "source": [
      "Inspired by the recent influx of news coverage of Ebola in the United States, we decided to investigate and conduct further research about Ebola in West Africa. Prior to this class, we all had interests in global health issues, and we thought this would be an incredible topic to explore that not only corresponds with our passions, but also would be relevant long after our project\u2019s conclusion. We noticed that the current fight against Ebola has been largely ineffective and disorganized, so we thought this may be due to a lack of understanding on how to best distribute the resources. We are hoping to parse through the data in a clear and methodical way that will help us better prepare for the spread of Ebola in the future. \n",
      "\n",
      "Ultimately we want to be able to predict the spread of Ebola, and come up with a predictive model that takes in as imputs demographic information and regional data to predict. Through this project, we hope to provide a comprehensive and rigorous analysis of the data available on Ebola and use it to better inform health workers, governments, and NGOs, and provide actionable recommendations for future Ebola interventions based off of the analysis we conducted. The benefits from this project will be multifold. First, we will have a greater understanding of the epidemic and the factors which are most important in determining spread and also intervention. We will also provide a service to the Ebola community, and take part in the fight against Ebola, serving as another resource to better and more efficiently allocate time and money towards this epidemic. \n"
     ]
    },
    {
     "cell_type": "heading",
     "level": 2,
     "metadata": {},
     "source": [
      "Related Work"
     ]
    },
    {
     "cell_type": "markdown",
     "metadata": {},
     "source": [
      "We were inspired largely by the HackEbola Hackathon (http://hackebolawithdata.challengepost.com/), from which we received our data. Our project originally started as a hackathon project that we decided to complete through the context of this final project. We also drew analytical insights from work that we did in class, such as from Problem Set 4, where we classified characteristics using machine learning techniques. "
     ]
    },
    {
     "cell_type": "heading",
     "level": 2,
     "metadata": {},
     "source": [
      "Initial Questions"
     ]
    },
    {
     "cell_type": "markdown",
     "metadata": {},
     "source": [
      "The main question we were trying to answer was where the epidemic would spread next, and how many cases could be expected. We originally began with the intention of determining which regional factors would be most important in predicting Ebola spread. However, as we continued our anaylsis it beame clear that this would not be possible in the scope of our project through our use of Principal Component Analysis in our model. \n",
      "\n",
      "We took into consideration the limitations of our datasets, especially concerning the lack of datapoints available in many of the regions, and made the decision to consolidate them into one large meta-region, disregarding travel restrictions as unnecessary due to the fact that an overwhelmingly large percentage of the cases were located in Liberia. \n",
      "\n",
      "Additionally, we also needed to address the question of what kind of data was appropriate to use. For example, although we had fairly comprehensive demograhics data, there were a lot of missing values that may have confounded our results. The decision to exclude that variable, or to use what data was available had to be made on a case-by-case basis. This decision to exclude or include data was especially important when trying to resolve conflicting naming practices for our regions of interest. Although we had done our best to sanitize our data, sometimes it was unclear from the documentation what some variables were. Again, the decision to use or discard data was left to personal discretion."
     ]
    },
    {
     "cell_type": "heading",
     "level": 2,
     "metadata": {},
     "source": [
      "Data"
     ]
    },
    {
     "cell_type": "markdown",
     "metadata": {},
     "source": [
      "The source of the data came from a database for a hackathon held at Harvard College a few weekends ago called HackEbola. The data was drawn from HumanitarianResponse.info, the Open Humanitarian Data Repository, and the Humanitarian Data Exchange and compiled into a single resource that was hosted on qdatum (link: http://www.qdatum.io/public-sources). We scraped the data we used for our model from qdatum and decided to pick only the datasets that were relevant to us. We mainly pulled data from Liberia and its neighboring countries. We decided to remove certain countries under our discretion if we were unable to find data on that country that spanned the datasets were interested. This included data on demographics, food prices (as as proxy for standard of living), movement restrictions, and basic epidemiological data (cases per region per date). Thus, for countries like Cote d'Ivoire that had demographics data but did not have basic epidemiological data, we chose to remove it due to lack of data we could model. Due to the non-standardization of the food price data, we ultimately decided not to incorporate it into our final model. \n",
      "\n",
      "Though some primary processing was performed by the hosts of the event, we still had a substantial amount of cleanup to do. First, we noticed that names of the regions we explored were not standardized. Sometimes a certain county would just be called by the name of the county itself, sometimes the names of the regions would have quotes around it, and sometimes there would be inconsistencies in naming that do not fall into these categories. We standardized the names of the regions by renaming region values and removing erroneous data that were also coincidentally poorly named.\n",
      "\n",
      "Movement restriction data was extracted from the HackEbola datasets. To prepare the dataset as time-series regressors, date ranges for movement restrictions were binarily interpolated (e.g. An Airport Closure from September 19th to October 19th would be interpolated into 30 days of Airport Closures with a value of 1 if restricted and 0 otherwise). Potential closures were excluded. Finally, datasets were grouped by country and region. This dataset was ultimately excluded from final analysis due to decisions we made on the regionality of our model, namely that because the vast majority of cases were in one country, imposing travel restrictions would not have significantly affected our model.\n",
      "\n",
      "We also cleaned up the dating processes. Especially in the dataset containing the basic epidemiological data, the dates were labeled as an arbitrary value of days after a certain unknown date. In order to standardize this, we decided to standardize the date column to represent the number of dates after the first observation of Ebola overall by finding the minimum value in the column and subtracting every date with that value, thus resulting in days after the first observation in all of the data. This helped standardize the dates to create a clean model in the end with an appropriate dating mechanic.\n",
      "\n",
      "\n"
     ]
    },
    {
     "cell_type": "heading",
     "level": 2,
     "metadata": {},
     "source": [
      "Exploratory Anaylsis"
     ]
    },
    {
     "cell_type": "markdown",
     "metadata": {},
     "source": [
      "Our overall model for the spread of ebola is a generalized logistic function of the form $\\hat{C}_r(t) = \\frac{Y_r}{1 + \\exp[-K_r (t - C_r)}$, where $C_r(t)$ is the number of cases in region $r$ at time $t$, and $Y_r, K_r, C_r$ are three constants associated with region $r$.\n",
      "\n",
      "This logistic function produces a sigmoid curve (S shape), which at first glance is reasonable as a model for disease outbreak; at first cases grow quickly as disease hosts are readily available and few protective health measures are being implemented - cases then slow their growth as either protective health measures slow the spread of the disease or as the new case and death dynamics reach equilibrium. Note that $Y_r$ is the maximum value of the function; it represents the susceptibility of the general population to the disease in general. $K_r$ is a growth rate, governing how quickly the disease spreads initially. $C_r$ is a time-centering parameter, which can include concepts such as the disease incubation rate (for example, a disease with a long incubation rate can take time from introduction to the first noted case, after which the disease spreads more rapidly).\n",
      "\n",
      "This model is frequently used to describe population growth with population limitations such as scarcity of resources or some other carrying capacity. In this case, the model is perhaps most intuitively viewed as a differential equation: $\\frac{dC}{dt} = rC \\left(1 - \\frac{C}{P} \\right)$. We have $r$ representing a growth rate, $C$ representing the number of cases, and $P$ representing the carrying capacity; as $C$ is low, $dC/dt$ is positive, so $C$ increases, but as $C \\to P$, the growth rate decreases since $1 - \\frac{C}{P} \\to 0 \\Rightarrow \\frac{dC}{dt} \\to 0$. The $rC$ term accounts for exponential population/case growth without population limitations, while the $1 - \\frac{C}{P}$ term accounts for downward pressure of overpopulation.\n",
      "\n",
      "Our model then assumes that the spread of ebola fits a logistic functional form for each region. If this is the case, and if we can accurately determine parameters for the logistic functions based on characteristics of the regions, then we can accurately fit the growth pattern of ebola in any region through one estimator.\n",
      "\n",
      "We in fact use a linear regression to determine the logistic function\u2019s parameters. We have estimators $\\begin{pmatrix} \\hat{Y}_r \\\\ \\hat{K}_r \\\\ \\hat{C}_r \\end{pmatrix} = \\begin{pmatrix} - & v_Y & - \\\\ - & v_K & - \\\\ - & v_C & - \\end{pmatrix} \\begin{pmatrix} | \\\\ D_r \\\\ | \\end{pmatrix}$ where $v_Y, v_K, v_C$ are the coefficients of regression and $D_r$ is the demographic information for region $r$. As we minimize the sum of squared residuals (SSR), we achieve $\\hat{Y}_r, \\hat{K}_r, \\hat{C}_r \\to^D Y_r, K_r, C_r$ (where $\\to^D$ is convergence in distribution), so by the Continuous Mapping Theorem (allowing us to exponentiate) and by Slutsky\u2019s Theorem (allowing us to combine the estimators through summation or multiplication), we know that $\\hat{C}_r(t) \\to^D C_r(t)$; our estimator for the number of cases in each region at each time is robust.\n",
      "\n",
      "One issue that we face is high multicorrelation within the independent variables (i.e. the demographic statistics). Many of the independent variables are intuitively linked, often relating to overall income and income distribution; for example, the per-capital wealth index is likely linked to the state of flushing toilets in a region, as the latter is a proxy for technological development and for public infrastructure in the region. Thus, in order to avoid spurious results in our analysis, we must reduce the dimensionality of our independent variables. We accomplish this through Principal Component Analysis, orthogonalizing our multicorrelated data by specifying the number of components we will be using in our regression. Ultimately this diminishes the intuition behind the variables we use in the regression, as the orthogonalization transformation has no inuitive meaning in the context of the variables; however, this is a necessary trade-off in order to avoid overfitting and in order to decorrelate variables and reduce dimensionality. In order to determine how many components to use in PCA, we examine the explained variance for each number of components over a small range, and set an appropriate cutoff for the minimum explained variance we will accept. We could have also used the Bayesian or Akaike Information Criteria (BIC or AIC) to determine the optimal number of components; in fact, our implementation of PCA on our data does include a \u201cscore\u201d method for the PCA, which gives the average log-likelihood score, from which we can derive the BIC or AIC and set the number of components to be the argument of the minimum for the BIC or AIC.\n",
      "\n",
      "Once we have orthogonalized the independent variables and transformed the appropriate series for demographic data, we can use an optimization algorithm to minimize the sum of squared residuals of our predictions. Two attractive candidates implemented by SciPy are the Powell Conjugate Direction Method or the Broyden - Fletcher - Goldfarb - Shanno algorithm. The former performs well for continuous but complex functions such as the one we have, due to its non-reliance on differentiation, whereas the latter is a nonlinear optimizer approximating Newton\u2019s Method, which is appropriate since hill climbing algorithms are in general powerful for our situation, where the parameter space does not contain many local optima.\n",
      "\n",
      "Using one of these optimization algorithms, we can then compute the optimal parameters (i.e. $v_Y, v_K, v_C$). From this, we can back test on our data to examine how strong our model\u2019s fit is.\n",
      "\n",
      "Given the number of data points we have versus the number of variables we ultimately use after applying principal component analysis, and given the complexity of the functional form we use, overfitting does not immediately seem to be problematic; however, to reinforce the robustness of the model, one area of extension could be using cross-validation instead of regression to determine the optimal parameters.\n",
      "\n",
      "The code implementing these procedures is included below:\n"
     ]
    },
    {
     "cell_type": "code",
     "collapsed": false,
     "input": [
      "# special IPython command to prepare the notebook for matplotlib\n",
      "%matplotlib inline \n",
      "\n",
      "import requests \n",
      "from StringIO import StringIO\n",
      "import numpy as np\n",
      "import pandas as pd # pandas\n",
      "import matplotlib.pyplot as plt # module for plotting \n",
      "import datetime as dt # module for manipulating dates and times\n",
      "import numpy.linalg as lin # module for performing linear algebra operations\n",
      "import sklearn.decomposition as deco\n",
      "import math\n",
      "import scipy.optimize as opt"
     ],
     "language": "python",
     "metadata": {},
     "outputs": [],
     "prompt_number": 441
    },
    {
     "cell_type": "markdown",
     "metadata": {},
     "source": [
      "First we import demographic data and case data."
     ]
    },
    {
     "cell_type": "code",
     "collapsed": false,
     "input": [
      "# get demographics tsv object\n",
      "url = \"http://api.qdatum.io/v1/pull/6?format=tsv\"\n",
      "dem = pd.read_csv(url, sep='\\t')\n",
      "\n",
      "# see what countries are being used\n",
      "countries = dem.drop_duplicates('country').country\n",
      "assert(len(countries) == 8)\n",
      "\n",
      "# demographic statistics by region\n",
      "tot_region = dem[(dem.region == 'Total')]\n",
      "CI = dem[(dem['country'] == \"Cote d'Ivoire\")]\n",
      "Guinea = dem[(dem['country'] == \"Guinea\")]\n",
      "Gambia = dem[(dem['country'] == \"Gambia\")]\n",
      "GB = dem[(dem['country'] == \"Guinea Bissau\")]\n",
      "Liberia = dem[(dem['country'] == \"Liberia\")]\n",
      "Mali = dem[(dem['country'] == \"Mali\")]\n",
      "Senegal = dem[(dem['country'] == \"Senegal\")]\n",
      "SL = dem[(dem['country'] == \"Sierra Leone\")]"
     ],
     "language": "python",
     "metadata": {},
     "outputs": [],
     "prompt_number": 22
    },
    {
     "cell_type": "code",
     "collapsed": false,
     "input": [
      "# ebola case statistics\n",
      "url = \"http://api.qdatum.io/v1/pull/2?format=tsv\"\n",
      "info = pd.read_csv(url, sep='\\\\t', engine='python')\n",
      "info = info[['country', 'localite', 'category', 'value', 'date']]\n",
      "info.columns = ['country', 'region', 'category', 'value', 'date']\n",
      "miniminimin = min(info.date)\n",
      "info['Days Since First Observation'] = info['date'] - miniminimin\n",
      "info.head()\n",
      "\n",
      "countries = info.drop_duplicates('country').country\n",
      "categories = info.drop_duplicates('category').category\n",
      "countries"
     ],
     "language": "python",
     "metadata": {},
     "outputs": [
      {
       "metadata": {},
       "output_type": "pyout",
       "prompt_number": 179,
       "text": [
        "0                Guinea\n",
        "50              Liberia\n",
        "341      \"Sierra Leone\"\n",
        "755             Nigeria\n",
        "2653            Senegal\n",
        "16427              Mali\n",
        "Name: country, dtype: object"
       ]
      }
     ],
     "prompt_number": 179
    },
    {
     "cell_type": "code",
     "collapsed": false,
     "input": [
      "# GUINEA\n",
      "ALL_GUINEA = info[[name.endswith('Guinea') for name in info.country]]\n",
      "gmin = min(ALL_GUINEA.date)\n",
      "ALL_GUINEA['countryfirstobs'] = ALL_GUINEA['date'] - gmin\n",
      "\n",
      "no_quotes = ALL_GUINEA[[name.endswith('\"') for name in ALL_GUINEA.region]]\n",
      "no_quotes_list = no_quotes.drop_duplicates('region').region\n",
      "                             \n",
      "for k in no_quotes_list:\n",
      "    ALL_GUINEA = ALL_GUINEA[ALL_GUINEA.region != k]\n",
      "\n",
      "GUINEA_CASES = ALL_GUINEA[[name.endswith('Cases') for name in ALL_GUINEA.category]]\n",
      "GUINEA_REGIONS = GUINEA_CASES.drop_duplicates('region').region\n",
      "GUINEACASES = list()\n",
      "for j in GUINEA_REGIONS:\n",
      "    j = GUINEA_CASES[[name.endswith(j) for name in GUINEA_CASES.region]]\n",
      "    GUINEACASES.append(j)\n",
      "\n",
      "# LIBERIA\n",
      "ALL_LIBERIA = info[[name.endswith('Liberia') for name in info.country]]\n",
      "lmin = min(ALL_LIBERIA.date)\n",
      "ALL_LIBERIA['countryfirstobs'] = ALL_LIBERIA['date'] - lmin\n",
      "ALL_LIBERIA['region']\n",
      "\n",
      "no_quotes = ALL_LIBERIA[[name.endswith(' \"') for name in ALL_LIBERIA.region]]\n",
      "no_quotes_list = no_quotes.drop_duplicates('region').region\n",
      "                             \n",
      "for k in no_quotes_list:\n",
      "    ALL_LIBERIA = ALL_LIBERIA[ALL_LIBERIA.region != k]\n",
      "LIBERIA_CASES = ALL_LIBERIA[[name.endswith('Cases') for name in ALL_LIBERIA.category]]\n",
      "LIBERIA_REGIONS = LIBERIA_CASES.drop_duplicates('region').region\n",
      "\n",
      "LIBERIACASES = list()\n",
      "for j in LIBERIA_REGIONS:\n",
      "    j = LIBERIA_CASES[[name.endswith(j) for name in LIBERIA_CASES.region]]\n",
      "    LIBERIACASES.append(j)\n",
      "\n",
      "# SIERRA LEONE\n",
      "ALL_SL = info[[name.endswith('\"Sierra Leone\"') for name in info.country]]\n",
      "ALL_SL['country'] = ['Sierra Leone'] * len(ALL_SL['country'])\n",
      "smin = min(ALL_SL.date)\n",
      "ALL_SL['countryfirstobs'] = ALL_SL['date'] - smin\n",
      "\n",
      "no_quotes = ALL_SL[[name.endswith('\"') for name in ALL_SL.region]]\n",
      "no_quotes_list = no_quotes.drop_duplicates('region').region\n",
      "for k in no_quotes_list:\n",
      "    ALL_SL = ALL_SL[ALL_SL.region != k]\n",
      "\n",
      "SL_CASES = ALL_SL[[name.endswith('Cases') for name in ALL_SL.category]]\n",
      "SL_REGIONS = SL_CASES.drop_duplicates('region').region\n",
      "SLCASES = list()\n",
      "for j in SL_REGIONS:\n",
      "    j = SL_CASES[[name.endswith(j) for name in SL_CASES.region]]\n",
      "    SLCASES.append(j)\n",
      "    \n",
      "# NIGERIA\n",
      "ALL_N = info[[name.endswith('Nigeria') for name in info.country]]\n",
      "nmin = min(ALL_N.date)\n",
      "ALL_N['countryfirstobs'] = ALL_N['date'] - nmin\n",
      "\n",
      "no_quotes = ALL_N[[name.endswith('\"') for name in ALL_N.region]]\n",
      "no_quotes_list = no_quotes.drop_duplicates('region').region\n",
      "for k in no_quotes_list:\n",
      "    ALL_N = ALL_N[ALL_N.region != k]\n",
      "\n",
      "N_CASES = ALL_N[[name.endswith('Cases') for name in ALL_N.category]]\n",
      "NIGERIA_REGIONS = N_CASES.drop_duplicates('region').region\n",
      "NCASES = list()\n",
      "for j in NIGERIA_REGIONS:\n",
      "    j = N_CASES[[name.endswith(j) for name in N_CASES.region]]\n",
      "    NCASES.append(j)\n",
      "    \n",
      "# SENEGAL\n",
      "ALL_Se = info[[name.endswith('Senegal') for name in info.country]]\n",
      "semin = min(ALL_Se.date)\n",
      "ALL_Se['countryfirstobs'] = ALL_Se['date'] - semin\n",
      "\n",
      "Se_CASES = ALL_Se[[name.endswith('Cases') for name in ALL_Se.category]]\n",
      "SeR = Se_CASES.drop_duplicates('region').region\n",
      "\n",
      "SeCASES = list()\n",
      "for j in SeR:\n",
      "    j = Se_CASES[[name.endswith(j) for name in Se_CASES.region]]\n",
      "    SeCASES.append(j)\n",
      "\n",
      "# MALI\n",
      "ALL_Mali = info[[name.endswith('Mali') for name in info.country]]\n",
      "mmin = min(ALL_Mali.date)\n",
      "ALL_Mali['countryfirstobs'] = ALL_Mali['date'] - mmin\n",
      "\n",
      "M_CASES = ALL_Mali[[name.endswith('Cases') for name in ALL_Mali.category]]\n",
      "MeR = M_CASES.drop_duplicates('region').region\n",
      "\n",
      "MeCASES = list()\n",
      "for j in MeR:\n",
      "    j = M_CASES[[name.endswith(j) for name in M_CASES.region]]\n",
      "    MeCASES.append(j)\n",
      "\n",
      "\n"
     ],
     "language": "python",
     "metadata": {},
     "outputs": [
      {
       "output_type": "stream",
       "stream": "stderr",
       "text": [
        "-c:40: SettingWithCopyWarning: A value is trying to be set on a copy of a slice from a DataFrame.\n",
        "Try using .loc[row_index,col_indexer] = value instead\n"
       ]
      }
     ],
     "prompt_number": 287
    },
    {
     "cell_type": "code",
     "collapsed": false,
     "input": [
      "cases = pd.DataFrame()\n",
      "cases = cases.append(GUINEACASES)\n",
      "cases = cases.append(LIBERIACASES)\n",
      "cases = cases.append(SLCASES)\n",
      "cases = cases.append(NCASES)\n",
      "cases = cases.append(SeCASES)\n",
      "cases = cases.append(MeCASES)\n",
      "cases = cases.reset_index()\n",
      "\n",
      "def is_number(s):\n",
      "    try:\n",
      "        float(s)\n",
      "        return True\n",
      "    except ValueError:\n",
      "        return False\n",
      "\n",
      "goodidx = list()\n",
      "vals = list(cases.value)\n",
      "for idx in range(len(vals)):\n",
      "    if is_number(vals[idx]):\n",
      "        if not np.isnan(float(vals[idx])):\n",
      "            goodidx.append(idx)\n",
      "    \n",
      "values = list()\n",
      "for v in list(cases.value):\n",
      "    if is_number(v):\n",
      "        values.append(float(v))\n",
      "    else:\n",
      "        values.append(0)\n",
      "cases.value = values\n",
      "\n",
      "print(cases.shape)\n",
      "cases = cases.iloc[goodidx]\n",
      "print(cases.shape)\n",
      "cases = cases[cases.value > 100]\n",
      "print(cases.shape)\n"
     ],
     "language": "python",
     "metadata": {},
     "outputs": [
      {
       "output_type": "stream",
       "stream": "stdout",
       "text": [
        "(3761, 8)\n",
        "(3710, 8)\n",
        "(1146, 8)\n"
       ]
      }
     ],
     "prompt_number": 626
    },
    {
     "cell_type": "markdown",
     "metadata": {},
     "source": [
      "We need to clean the data for discrepancies between datasets in terms of labeling."
     ]
    },
    {
     "cell_type": "code",
     "collapsed": false,
     "input": [
      "regions = list(cases['region'])\n",
      "for idx in range (len(regions)):\n",
      "    rgn = regions[idx]\n",
      "    # Clean for quotes\n",
      "    if rgn[0] == '\"' or rgn[len(rgn)-1] == '\"': \n",
      "        rgn = rgn[1:len(rgn)-1]\n",
      "    # Clean for extra words\n",
      "    if rgn[len(rgn)-6:len(rgn)] == \"County\":\n",
      "        rgn = rgn[0:len(rgn)-7]\n",
      "    if rgn == \"National\":\n",
      "        rgn = \"Total\"\n",
      "    regions[idx] = rgn\n",
      "cases['region'] = regions\n",
      "print(cases.shape)"
     ],
     "language": "python",
     "metadata": {},
     "outputs": [
      {
       "output_type": "stream",
       "stream": "stdout",
       "text": [
        "(1146, 8)\n"
       ]
      }
     ],
     "prompt_number": 627
    },
    {
     "cell_type": "markdown",
     "metadata": {},
     "source": [
      "We were hoping to perform additional exploratory analysis by creating graphs for the various demographics, food, cases/date, etc., however our efforts were thwarted by our dataset going offline. However, if we had the data available, we would have created several simple graphs using code like this for each of our datasets:"
     ]
    },
    {
     "cell_type": "code",
     "collapsed": false,
     "input": [
      "#e.g. for basic epidemiology data, I would use...\n",
      "#plt.figure()\n",
      "#plt.plot(days_since_first_observation, number_of_cases, 'x')"
     ],
     "language": "python",
     "metadata": {},
     "outputs": []
    },
    {
     "cell_type": "markdown",
     "metadata": {},
     "source": [
      "Depending on the type of data, we were planning on creating for loops for lists of datasets, and making sure if we can see any relations before we fit any sort of model. Unfortunately, we had already created a model that fits fairly well, and then realized we should have conducted additional exploratory work through graphs. This situation was explained to the head TF, our TF, and other members of the teaching staff, but we have yet to receive any information on how to remedy the situation, so we thought we would explain it both here and through an email to the staff. If the data comes back online, we were planning to create the related graphs, but we have yet to receive any update from the host qDatum. "
     ]
    },
    {
     "cell_type": "heading",
     "level": 5,
     "metadata": {},
     "source": [
      "Utility functions"
     ]
    },
    {
     "cell_type": "code",
     "collapsed": false,
     "input": [
      "def rowfind (dem, country, localite):\n",
      "    locs = list(dem.country + \" %%% \" + dem.region)\n",
      "    loc = country + \" %%% \" + localite\n",
      "    idx = locs.index(loc)\n",
      "    #return (dem.iloc[[idx]])\n",
      "    return(idx)\n",
      "\n",
      "def gen_data (indep, dem):\n",
      "    factors = list(dem.columns.values)   \n",
      "    relevant = dem[factors[7:36]]\n",
      "    relevant = relevant.drop(\"wrk_agr\", 1)\n",
      "    relevant = relevant.drop(\"wrk_lnagr\", 1)\n",
      "    relevant = relevant.drop(\"wrk_unagr\", 1)\n",
      "    relevant['country'] = dem[[3]]\n",
      "    relevant['region'] = dem[[6]]\n",
      "    return(pd.merge(indep, relevant, how='inner'))"
     ],
     "language": "python",
     "metadata": {},
     "outputs": [],
     "prompt_number": 628
    },
    {
     "cell_type": "heading",
     "level": 3,
     "metadata": {},
     "source": [
      "Principal Component Analysis"
     ]
    },
    {
     "cell_type": "code",
     "collapsed": false,
     "input": [
      "compiled_data = gen_data(cases, dem)\n",
      "compiled_data = compiled_data.drop_duplicates(subset=['country', 'region'])\n",
      "compiled_data = compiled_data.ix[:, 7:33]\n",
      "for n_components in range (10):\n",
      "    pca = deco.PCA(n_components)\n",
      "    pcafit = pca.fit(compiled_data)\n",
      "    data_trans = pcafit.transform(compiled_data)\n",
      "    print ('explained variance (%d components): %.5f'%(n_components, sum(pca.explained_variance_ratio_)))"
     ],
     "language": "python",
     "metadata": {},
     "outputs": [
      {
       "output_type": "stream",
       "stream": "stdout",
       "text": [
        "explained variance (0 components): 0.00000\n",
        "explained variance (1 components): 0.47047\n",
        "explained variance (2 components): 0.87961\n",
        "explained variance (3 components): 0.93404\n",
        "explained variance (4 components): 0.95895\n",
        "explained variance (5 components): 0.97514\n",
        "explained variance (6 components): 0.98568\n",
        "explained variance (7 components): 0.99423\n",
        "explained variance (8 components): 0.99693\n",
        "explained variance (9 components): 0.99861\n"
       ]
      }
     ],
     "prompt_number": 629
    },
    {
     "cell_type": "markdown",
     "metadata": {},
     "source": [
      "We reach 90% of variance with three components, so we reduce dimensionality to 3 components."
     ]
    },
    {
     "cell_type": "code",
     "collapsed": false,
     "input": [
      "ncomp = 6\n",
      "pca = deco.PCA(n_components = ncomp)\n",
      "pcafit = pca.fit(compiled_data)\n",
      "data_trans = pcafit.transform(compiled_data)\n",
      "trans_params = pd.DataFrame(data_trans)\n",
      "\n",
      "def predict_cases (indep, dem, trans, Lcoeffs, Rcoeffs, Ccoeffs):\n",
      "    def param_gen (dem, trans, Lcoeffs, Rcoeffs, Ccoeffs):\n",
      "        Lparams = trans.dot(Lcoeffs)\n",
      "        Rparams = trans.dot(Rcoeffs)\n",
      "        Cparams = trans.dot(Ccoeffs)\n",
      "        params = dem[[3, 6]]\n",
      "        params['L'] = Lparams\n",
      "        params['R'] = Rparams\n",
      "        params['C'] = Cparams\n",
      "        return(params)\n",
      "    params = param_gen (dem, trans, Lcoeffs, Rcoeffs, Ccoeffs)\n",
      "    finaldata = pd.merge(params, indep, how='inner')\n",
      "    finaldata = finaldata[finaldata.value > 0] # sanity check for clean data\n",
      "\n",
      "    goodidx = list()\n",
      "    vals = list(finaldata.L)\n",
      "    for idx in range(len(vals)):\n",
      "        if is_number(vals[idx]):\n",
      "            if not np.isnan(float(vals[idx])):\n",
      "                goodidx.append(idx)\n",
      "    finaldata = finaldata.iloc[goodidx]\n",
      "    \n",
      "    \n",
      "    prediction = np.array(finaldata.L) / (1.0 + np.exp(-np.array(finaldata.R) * (np.array(finaldata.countryfirstobs) - np.array(finaldata.C))))\n",
      "    \n",
      "    origvals = list()\n",
      "    for x in finaldata.value:\n",
      "        if is_number(x):\n",
      "            if not np.isnan(float(x)):\n",
      "                origvals.append(float(x))\n",
      "            else:\n",
      "                origvals.append(0) # acceptable because it will cause constant error regardless of the parameter choice\n",
      "        else:\n",
      "            origvals.append(0) # acceptable because it will cause constant error regardless of the parameter choice        \n",
      "    origvals = np.array(origvals)\n",
      "\n",
      "    predvals = list()\n",
      "    for y in prediction:\n",
      "        if is_number(y):\n",
      "            if not np.isnan(float(y)):\n",
      "                predvals.append(float(y))\n",
      "            else:\n",
      "                predvals.append(0)\n",
      "        else:\n",
      "            predvals.append(0)\n",
      "    predvals = np.array(predvals)\n",
      "    \n",
      "    SSE = np.sum(np.power(np.subtract(predvals, origvals), 2))\n",
      "    TSS = np.sum(np.power(np.subtract(origvals, np.mean(origvals)), 2))\n",
      "    return(SSE/TSS)\n",
      "\n",
      "# Helper function to allow use in brute\n",
      "def help_predict (arg, indep, dem, trans):\n",
      "    Lcoeffs = arg[0:ncomp]\n",
      "    Rcoeffs = arg[ncomp:2*ncomp]\n",
      "    Ccoeffs = arg[2*ncomp:3*ncomp]\n",
      "    return predict_cases (indep, dem, trans, Lcoeffs, Rcoeffs, Ccoeffs)\n",
      "# Powell method optimal\n",
      "# BFGS is ok\n",
      "# TNC is ok\n",
      "# SLSQP is good\n",
      "result = opt.minimize (help_predict, [0.0]*ncomp*3, args=(cases, dem, trans_params), method='Powell')"
     ],
     "language": "python",
     "metadata": {},
     "outputs": [],
     "prompt_number": 634
    },
    {
     "cell_type": "code",
     "collapsed": false,
     "input": [
      "def param_gen (dem, trans, Lcoeffs, Rcoeffs, Ccoeffs):\n",
      "    Lparams = trans.dot(Lcoeffs)\n",
      "    Rparams = trans.dot(Rcoeffs)\n",
      "    Cparams = trans.dot(Ccoeffs)\n",
      "    params = dem[[3, 6]]\n",
      "    params['L'] = Lparams\n",
      "    params['R'] = Rparams\n",
      "    params['C'] = Cparams\n",
      "    return(params)\n",
      "Lcoeffs = result.x[0:ncomp]\n",
      "Rcoeffs = result.x[ncomp:2*ncomp]\n",
      "Ccoeffs = result.x[2*ncomp:3*ncomp]\n",
      "\n",
      "params = param_gen (dem, trans_params, Lcoeffs, Rcoeffs, Ccoeffs)\n",
      "finaldata = pd.merge(params, cases, how='inner')\n",
      "finaldata = finaldata[finaldata.value > 0] # sanity check for clean data\n",
      "goodidx = list()\n",
      "vals = list(finaldata.L)\n",
      "for idx in range(len(vals)):\n",
      "    if is_number(vals[idx]):\n",
      "        if not np.isnan(float(vals[idx])):\n",
      "            goodidx.append(idx)\n",
      "finaldata = finaldata.iloc[goodidx]\n",
      "prediction = np.array(finaldata.L) / (1.0 + np.exp(-np.array(finaldata.R) * (np.array(finaldata.countryfirstobs) - np.array(finaldata.C))))\n",
      "\n",
      "origvals = list()\n",
      "for x in finaldata.value:\n",
      "    if is_number(x):\n",
      "        if not np.isnan(float(x)):\n",
      "            origvals.append(float(x))\n",
      "        else:\n",
      "            origvals.append(0)\n",
      "            assert(false)\n",
      "    else:\n",
      "        origvals.append(0)\n",
      "        assert(false)\n",
      "\n",
      "predvals = list()\n",
      "for y in prediction:\n",
      "    if is_number(y):\n",
      "        if not np.isnan(float(y)):\n",
      "            predvals.append(float(y))\n",
      "        else:\n",
      "            predvals.append(0)\n",
      "            assert(false)\n",
      "    else:\n",
      "        predvals.append(0)\n",
      "        assert(false)\n",
      "predvals = np.array(predvals)\n",
      "\n",
      "\n",
      "plt.figure()\n",
      "plt.plot(origvals, predvals, 'x')\n",
      "plt.plot(origvals, origvals, '.')\n",
      "\n",
      "# Please note that we could not update our plot to include labels and a title due to the site containing our data being down"
     ],
     "language": "python",
     "metadata": {},
     "outputs": [
      {
       "metadata": {},
       "output_type": "pyout",
       "prompt_number": 635,
       "text": [
        "[<matplotlib.lines.Line2D at 0x111abb150>]"
       ]
      },
      {
       "metadata": {},
       "output_type": "display_data",
       "png": "[encoded data removed]",
       "text": [
        "<matplotlib.figure.Figure at 0x114231ed0>"
       ]
      }
     ],
     "prompt_number": 635
    },
    {
     "cell_type": "code",
     "collapsed": false,
     "input": [
      "print(result.x)"
     ],
     "language": "python",
     "metadata": {},
     "outputs": [
      {
       "output_type": "stream",
       "stream": "stdout",
       "text": [
        "[  1.27036526e+02   7.94105949e+01  -4.43164235e+01   5.63660294e+02\n",
        "   6.00016127e+02  -6.82835462e+01   4.04468912e-04  -1.16297587e-04\n",
        "   1.55174604e-07   1.71787581e-05  -6.06904633e-04   4.12950738e-05\n",
        "   8.73810203e+00   1.11595060e-02   6.36605333e-04   2.43864659e-02\n",
        "  -3.83609179e-01  -1.64180693e+00]\n"
       ]
      }
     ],
     "prompt_number": 636
    },
    {
     "cell_type": "heading",
     "level": 2,
     "metadata": {},
     "source": [
      "Final Analysis"
     ]
    },
    {
     "cell_type": "markdown",
     "metadata": {},
     "source": [
      "\n",
      "In the end, our model fits quite well, which is pleasantly surprising because efforts to model disease outbreak are usually focused on one geographical unit (i.e. region). Our methods have generalized to examine disease outbreak across regions with model parameters dependent on demographic characteristics. Specifically, based on demographic data, we can robustly estimate the size of the population at risk, the speed of infection, and the time from infection to reported cases. In doing so, we have created a tool that not only has predictive power for the future spread of ebola, but also allows us to explore the effects of demographic characteristics on the spread of disease. By studying these effects, in the future we can predict disease hotspots and better understand how socioeconomic changes lead to epidemiological shifts."
     ]
    },
    {
     "cell_type": "code",
     "collapsed": false,
     "input": [],
     "language": "python",
     "metadata": {},
     "outputs": [],
     "prompt_number": 602
    },
    {
     "cell_type": "code",
     "collapsed": false,
     "input": [],
     "language": "python",
     "metadata": {},
     "outputs": []
    }
   ],
   "metadata": {}
  }
 ]
}